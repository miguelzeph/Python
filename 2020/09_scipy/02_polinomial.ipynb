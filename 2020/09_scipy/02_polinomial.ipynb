{
 "cells": [
  {
   "cell_type": "code",
   "execution_count": 20,
   "metadata": {},
   "outputs": [],
   "source": [
    "import numpy as np\n",
    "import matplotlib.pyplot as plt"
   ]
  },
  {
   "cell_type": "code",
   "execution_count": 61,
   "metadata": {},
   "outputs": [
    {
     "name": "stdout",
     "output_type": "stream",
     "text": [
      "   4     3     2\n",
      "1 x + 2 x + 3 x + 4 x + 5\n"
     ]
    }
   ],
   "source": [
    "#Função polinomial\n",
    "p = np.poly1d([1,2,3,4,5])\n",
    "print(p)"
   ]
  },
  {
   "cell_type": "code",
   "execution_count": 62,
   "metadata": {},
   "outputs": [
    {
     "name": "stdout",
     "output_type": "stream",
     "text": [
      "   4     3     2\n",
      "2 x + 4 x + 6 x + 8 x + 10\n"
     ]
    }
   ],
   "source": [
    "#Soma entre funções polinomiais\n",
    "print(p+p)"
   ]
  },
  {
   "cell_type": "code",
   "execution_count": 63,
   "metadata": {},
   "outputs": [
    {
     "name": "stdout",
     "output_type": "stream",
     "text": [
      "   3     2\n",
      "4 x + 6 x + 6 x + 4\n"
     ]
    }
   ],
   "source": [
    "#Derivada\n",
    "print(p.deriv())"
   ]
  },
  {
   "cell_type": "code",
   "execution_count": 64,
   "metadata": {},
   "outputs": [
    {
     "name": "stdout",
     "output_type": "stream",
     "text": [
      "     5       4     3     2\n",
      "0.2 x + 0.5 x + 1 x + 2 x + 5 x + 1000\n"
     ]
    }
   ],
   "source": [
    "#Integral\n",
    "print(p.integ(k=1000))"
   ]
  },
  {
   "cell_type": "code",
   "execution_count": 65,
   "metadata": {
    "scrolled": true
   },
   "outputs": [
    {
     "data": {
      "text/plain": [
       "array([  5,  15,  57, 179, 453])"
      ]
     },
     "execution_count": 65,
     "metadata": {},
     "output_type": "execute_result"
    }
   ],
   "source": [
    "#Introduzindo valores na função\n",
    "t = [0,1,2,3,4]\n",
    "\n",
    "p(t)"
   ]
  },
  {
   "cell_type": "code",
   "execution_count": 66,
   "metadata": {},
   "outputs": [],
   "source": [
    "#Plotando Gráficos"
   ]
  },
  {
   "cell_type": "code",
   "execution_count": 67,
   "metadata": {},
   "outputs": [
    {
     "name": "stdout",
     "output_type": "stream",
     "text": [
      "   3     2\n",
      "1 x + 1 x + 1 x + 1\n"
     ]
    }
   ],
   "source": [
    "x = np.arange(-20,+20)\n",
    "p = np.poly1d([1,1,1,1])\n",
    "print(p)"
   ]
  },
  {
   "cell_type": "code",
   "execution_count": 68,
   "metadata": {},
   "outputs": [
    {
     "name": "stdout",
     "output_type": "stream",
     "text": [
      "   2\n",
      "3 x + 2 x + 1\n",
      " \n",
      "6 x + 2\n"
     ]
    }
   ],
   "source": [
    "dpdx = p.deriv()\n",
    "print(dpdx)\n",
    "dpdx2 = dpdx.deriv()\n",
    "print(dpdx2)"
   ]
  },
  {
   "cell_type": "code",
   "execution_count": 69,
   "metadata": {
    "scrolled": false
   },
   "outputs": [
    {
     "data": {
      "text/plain": [
       "<matplotlib.legend.Legend at 0x7f010f66ab70>"
      ]
     },
     "execution_count": 69,
     "metadata": {},
     "output_type": "execute_result"
    },
    {
     "data": {
      "image/png": "[encoded data removed]",
      "text/plain": [
       "<Figure size 432x288 with 1 Axes>"
      ]
     },
     "metadata": {
      "needs_background": "light"
     },
     "output_type": "display_data"
    }
   ],
   "source": [
    "plt.plot(x,p(x),label = 'p(x)')\n",
    "plt.plot(x,dpdx(x),label = \"p(x)'\")\n",
    "plt.plot(x,dpdx2(x),label = \"p(x)''\")\n",
    "plt.legend()"
   ]
  }
 ],
 "metadata": {
  "kernelspec": {
   "display_name": "Python 3",
   "language": "python",
   "name": "python3"
  },
  "language_info": {
   "codemirror_mode": {
    "name": "ipython",
    "version": 3
   },
   "file_extension": ".py",
   "mimetype": "text/x-python",
   "name": "python",
   "nbconvert_exporter": "python",
   "pygments_lexer": "ipython3",
   "version": "3.6.8"
  }
 },
 "nbformat": 4,
 "nbformat_minor": 2
}
