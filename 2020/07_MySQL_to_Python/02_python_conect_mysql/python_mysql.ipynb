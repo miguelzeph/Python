{
 "cells": [
  {
   "cell_type": "code",
   "execution_count": 1,
   "metadata": {},
   "outputs": [],
   "source": [
    "#install:\n",
    "#pip3.6 install mysql-connector"
   ]
  },
  {
   "cell_type": "code",
   "execution_count": 2,
   "metadata": {},
   "outputs": [],
   "source": [
    "import mysql.connector as sql"
   ]
  },
  {
   "cell_type": "code",
   "execution_count": 3,
   "metadata": {},
   "outputs": [],
   "source": [
    "# Sabemos os nossos bancos de dados...\n",
    "mydb = sql.connect(\n",
    "    host = 'localhost',\n",
    "    user = 'root',\n",
    "    password = '25lokinho',\n",
    "    database = 'cadastro',#vamos acessar\n",
    ")"
   ]
  },
  {
   "cell_type": "code",
   "execution_count": 4,
   "metadata": {},
   "outputs": [],
   "source": [
    "mydb = sql.connect(\n",
    "    host = 'localhost',\n",
    "    user = 'root',\n",
    "    password = '25lokinho',\n",
    ")"
   ]
  },
  {
   "cell_type": "code",
   "execution_count": 5,
   "metadata": {},
   "outputs": [],
   "source": [
    "mycursor = mydb.cursor()\n"
   ]
  },
  {
   "cell_type": "code",
   "execution_count": 6,
   "metadata": {},
   "outputs": [],
   "source": [
    "mycursor.execute('show databases')"
   ]
  },
  {
   "cell_type": "code",
   "execution_count": 7,
   "metadata": {},
   "outputs": [
    {
     "name": "stdout",
     "output_type": "stream",
     "text": [
      "('information_schema',)\n",
      "('cadastro',)\n",
      "('mysql',)\n",
      "('performance_schema',)\n",
      "('sys',)\n"
     ]
    }
   ],
   "source": [
    "for data in mycursor:\n",
    "    print(data)"
   ]
  },
  {
   "cell_type": "code",
   "execution_count": null,
   "metadata": {},
   "outputs": [],
   "source": []
  },
  {
   "cell_type": "code",
   "execution_count": 8,
   "metadata": {},
   "outputs": [],
   "source": [
    "mydb = sql.connect(\n",
    "    host = 'localhost',\n",
    "    user = 'root',\n",
    "    password = '25lokinho',\n",
    "    database = 'cadastro',\n",
    ")"
   ]
  },
  {
   "cell_type": "code",
   "execution_count": 9,
   "metadata": {},
   "outputs": [],
   "source": [
    "mycursor = mydb.cursor()"
   ]
  },
  {
   "cell_type": "code",
   "execution_count": 10,
   "metadata": {},
   "outputs": [
    {
     "name": "stdout",
     "output_type": "stream",
     "text": [
      "(None, 1, 'Godofredo', 'naosabe', datetime.date(1984, 1, 2), 'M', Decimal('78.50'), Decimal('1.83'), 'Brasil')\n",
      "(None, 2, 'Priscila', 'naosabe', datetime.date(1995, 1, 2), 'M', Decimal('51.50'), Decimal('1.63'), 'Brasil')\n",
      "(None, 3, 'Priscila', 'naosabe', datetime.date(1995, 1, 2), 'M', Decimal('51.50'), Decimal('1.63'), 'Brasil')\n",
      "(None, 4, 'Miguel', 'naosabe', datetime.date(1990, 10, 3), 'M', Decimal('76.50'), Decimal('1.79'), 'Brasil')\n",
      "(None, 5, 'Junior', 'naosabe', datetime.date(1998, 10, 3), 'M', Decimal('75.50'), Decimal('1.70'), 'Brasil')\n",
      "(None, 6, 'Fernando', 'naosabe', datetime.date(2000, 10, 3), 'M', Decimal('88.50'), Decimal('1.90'), 'Brasil')\n",
      "(None, 7, 'Gui', 'naosabe', datetime.date(1993, 12, 8), 'M', Decimal('80.00'), Decimal('1.79'), 'Brasil')\n",
      "(None, 8, 'Ana', 'naosabe', datetime.date(1965, 10, 3), 'F', Decimal('70.50'), Decimal('1.74'), 'Brasil')\n"
     ]
    }
   ],
   "source": [
    "mycursor.execute('select * from pessoas')\n",
    "for data in mycursor:\n",
    "    print(data)"
   ]
  },
  {
   "cell_type": "markdown",
   "metadata": {},
   "source": [
    "# Fazendo com Pandas agora"
   ]
  },
  {
   "cell_type": "code",
   "execution_count": 11,
   "metadata": {},
   "outputs": [],
   "source": [
    "import pandas as pd"
   ]
  },
  {
   "cell_type": "code",
   "execution_count": 12,
   "metadata": {},
   "outputs": [],
   "source": [
    "mydb = sql.connect(\n",
    "    host = 'localhost',\n",
    "    user = 'root',\n",
    "    password = '25lokinho',\n",
    "    database = 'cadastro',\n",
    ")"
   ]
  },
  {
   "cell_type": "code",
   "execution_count": 13,
   "metadata": {},
   "outputs": [],
   "source": [
    "mycursor = mydb.cursor()"
   ]
  },
  {
   "cell_type": "code",
   "execution_count": 14,
   "metadata": {},
   "outputs": [],
   "source": [
    "mycursor.execute('select * from pessoas')"
   ]
  },
  {
   "cell_type": "code",
   "execution_count": 15,
   "metadata": {},
   "outputs": [],
   "source": [
    "df = pd.DataFrame(data = mycursor)"
   ]
  },
  {
   "cell_type": "code",
   "execution_count": 16,
   "metadata": {},
   "outputs": [
    {
     "data": {
      "text/html": [
       "<div>\n",
       "<style scoped>\n",
       "    .dataframe tbody tr th:only-of-type {\n",
       "        vertical-align: middle;\n",
       "    }\n",
       "\n",
       "    .dataframe tbody tr th {\n",
       "        vertical-align: top;\n",
       "    }\n",
       "\n",
       "    .dataframe thead th {\n",
       "        text-align: right;\n",
       "    }\n",
       "</style>\n",
       "<table border=\"1\" class=\"dataframe\">\n",
       "  <thead>\n",
       "    <tr style=\"text-align: right;\">\n",
       "      <th></th>\n",
       "      <th>0</th>\n",
       "      <th>1</th>\n",
       "      <th>2</th>\n",
       "      <th>3</th>\n",
       "      <th>4</th>\n",
       "      <th>5</th>\n",
       "      <th>6</th>\n",
       "      <th>7</th>\n",
       "      <th>8</th>\n",
       "    </tr>\n",
       "  </thead>\n",
       "  <tbody>\n",
       "    <tr>\n",
       "      <th>0</th>\n",
       "      <td>None</td>\n",
       "      <td>1</td>\n",
       "      <td>Godofredo</td>\n",
       "      <td>naosabe</td>\n",
       "      <td>1984-01-02</td>\n",
       "      <td>M</td>\n",
       "      <td>78.50</td>\n",
       "      <td>1.83</td>\n",
       "      <td>Brasil</td>\n",
       "    </tr>\n",
       "    <tr>\n",
       "      <th>1</th>\n",
       "      <td>None</td>\n",
       "      <td>2</td>\n",
       "      <td>Priscila</td>\n",
       "      <td>naosabe</td>\n",
       "      <td>1995-01-02</td>\n",
       "      <td>M</td>\n",
       "      <td>51.50</td>\n",
       "      <td>1.63</td>\n",
       "      <td>Brasil</td>\n",
       "    </tr>\n",
       "    <tr>\n",
       "      <th>2</th>\n",
       "      <td>None</td>\n",
       "      <td>3</td>\n",
       "      <td>Priscila</td>\n",
       "      <td>naosabe</td>\n",
       "      <td>1995-01-02</td>\n",
       "      <td>M</td>\n",
       "      <td>51.50</td>\n",
       "      <td>1.63</td>\n",
       "      <td>Brasil</td>\n",
       "    </tr>\n",
       "    <tr>\n",
       "      <th>3</th>\n",
       "      <td>None</td>\n",
       "      <td>4</td>\n",
       "      <td>Miguel</td>\n",
       "      <td>naosabe</td>\n",
       "      <td>1990-10-03</td>\n",
       "      <td>M</td>\n",
       "      <td>76.50</td>\n",
       "      <td>1.79</td>\n",
       "      <td>Brasil</td>\n",
       "    </tr>\n",
       "    <tr>\n",
       "      <th>4</th>\n",
       "      <td>None</td>\n",
       "      <td>5</td>\n",
       "      <td>Junior</td>\n",
       "      <td>naosabe</td>\n",
       "      <td>1998-10-03</td>\n",
       "      <td>M</td>\n",
       "      <td>75.50</td>\n",
       "      <td>1.70</td>\n",
       "      <td>Brasil</td>\n",
       "    </tr>\n",
       "    <tr>\n",
       "      <th>5</th>\n",
       "      <td>None</td>\n",
       "      <td>6</td>\n",
       "      <td>Fernando</td>\n",
       "      <td>naosabe</td>\n",
       "      <td>2000-10-03</td>\n",
       "      <td>M</td>\n",
       "      <td>88.50</td>\n",
       "      <td>1.90</td>\n",
       "      <td>Brasil</td>\n",
       "    </tr>\n",
       "    <tr>\n",
       "      <th>6</th>\n",
       "      <td>None</td>\n",
       "      <td>7</td>\n",
       "      <td>Gui</td>\n",
       "      <td>naosabe</td>\n",
       "      <td>1993-12-08</td>\n",
       "      <td>M</td>\n",
       "      <td>80.00</td>\n",
       "      <td>1.79</td>\n",
       "      <td>Brasil</td>\n",
       "    </tr>\n",
       "    <tr>\n",
       "      <th>7</th>\n",
       "      <td>None</td>\n",
       "      <td>8</td>\n",
       "      <td>Ana</td>\n",
       "      <td>naosabe</td>\n",
       "      <td>1965-10-03</td>\n",
       "      <td>F</td>\n",
       "      <td>70.50</td>\n",
       "      <td>1.74</td>\n",
       "      <td>Brasil</td>\n",
       "    </tr>\n",
       "  </tbody>\n",
       "</table>\n",
       "</div>"
      ],
      "text/plain": [
       "      0  1          2        3           4  5      6     7       8\n",
       "0  None  1  Godofredo  naosabe  1984-01-02  M  78.50  1.83  Brasil\n",
       "1  None  2   Priscila  naosabe  1995-01-02  M  51.50  1.63  Brasil\n",
       "2  None  3   Priscila  naosabe  1995-01-02  M  51.50  1.63  Brasil\n",
       "3  None  4     Miguel  naosabe  1990-10-03  M  76.50  1.79  Brasil\n",
       "4  None  5     Junior  naosabe  1998-10-03  M  75.50  1.70  Brasil\n",
       "5  None  6   Fernando  naosabe  2000-10-03  M  88.50  1.90  Brasil\n",
       "6  None  7        Gui  naosabe  1993-12-08  M  80.00  1.79  Brasil\n",
       "7  None  8        Ana  naosabe  1965-10-03  F  70.50  1.74  Brasil"
      ]
     },
     "execution_count": 16,
     "metadata": {},
     "output_type": "execute_result"
    }
   ],
   "source": [
    "df # Ele não copia o nome das colunas"
   ]
  },
  {
   "cell_type": "markdown",
   "metadata": {},
   "source": [
    "### Mais eficiente usar a função do panda direto"
   ]
  },
  {
   "cell_type": "code",
   "execution_count": 17,
   "metadata": {},
   "outputs": [],
   "source": [
    "mydb = sql.connect(\n",
    "    host = 'localhost',\n",
    "    user = 'root',\n",
    "    password = '25lokinho',\n",
    "    database = 'cadastro',\n",
    ")"
   ]
  },
  {
   "cell_type": "code",
   "execution_count": 18,
   "metadata": {},
   "outputs": [],
   "source": [
    "df = pd.read_sql('SELECT * FROM pessoas', con=mydb)"
   ]
  },
  {
   "cell_type": "code",
   "execution_count": 19,
   "metadata": {},
   "outputs": [
    {
     "data": {
      "text/html": [
       "<div>\n",
       "<style scoped>\n",
       "    .dataframe tbody tr th:only-of-type {\n",
       "        vertical-align: middle;\n",
       "    }\n",
       "\n",
       "    .dataframe tbody tr th {\n",
       "        vertical-align: top;\n",
       "    }\n",
       "\n",
       "    .dataframe thead th {\n",
       "        text-align: right;\n",
       "    }\n",
       "</style>\n",
       "<table border=\"1\" class=\"dataframe\">\n",
       "  <thead>\n",
       "    <tr style=\"text-align: right;\">\n",
       "      <th></th>\n",
       "      <th>codigo</th>\n",
       "      <th>id</th>\n",
       "      <th>nome</th>\n",
       "      <th>prof</th>\n",
       "      <th>nascimento</th>\n",
       "      <th>sexo</th>\n",
       "      <th>peso</th>\n",
       "      <th>altura</th>\n",
       "      <th>nacionalidade</th>\n",
       "    </tr>\n",
       "  </thead>\n",
       "  <tbody>\n",
       "    <tr>\n",
       "      <th>0</th>\n",
       "      <td>None</td>\n",
       "      <td>1</td>\n",
       "      <td>Godofredo</td>\n",
       "      <td>naosabe</td>\n",
       "      <td>1984-01-02</td>\n",
       "      <td>M</td>\n",
       "      <td>78.5</td>\n",
       "      <td>1.83</td>\n",
       "      <td>Brasil</td>\n",
       "    </tr>\n",
       "    <tr>\n",
       "      <th>1</th>\n",
       "      <td>None</td>\n",
       "      <td>2</td>\n",
       "      <td>Priscila</td>\n",
       "      <td>naosabe</td>\n",
       "      <td>1995-01-02</td>\n",
       "      <td>M</td>\n",
       "      <td>51.5</td>\n",
       "      <td>1.63</td>\n",
       "      <td>Brasil</td>\n",
       "    </tr>\n",
       "    <tr>\n",
       "      <th>2</th>\n",
       "      <td>None</td>\n",
       "      <td>3</td>\n",
       "      <td>Priscila</td>\n",
       "      <td>naosabe</td>\n",
       "      <td>1995-01-02</td>\n",
       "      <td>M</td>\n",
       "      <td>51.5</td>\n",
       "      <td>1.63</td>\n",
       "      <td>Brasil</td>\n",
       "    </tr>\n",
       "    <tr>\n",
       "      <th>3</th>\n",
       "      <td>None</td>\n",
       "      <td>4</td>\n",
       "      <td>Miguel</td>\n",
       "      <td>naosabe</td>\n",
       "      <td>1990-10-03</td>\n",
       "      <td>M</td>\n",
       "      <td>76.5</td>\n",
       "      <td>1.79</td>\n",
       "      <td>Brasil</td>\n",
       "    </tr>\n",
       "    <tr>\n",
       "      <th>4</th>\n",
       "      <td>None</td>\n",
       "      <td>5</td>\n",
       "      <td>Junior</td>\n",
       "      <td>naosabe</td>\n",
       "      <td>1998-10-03</td>\n",
       "      <td>M</td>\n",
       "      <td>75.5</td>\n",
       "      <td>1.70</td>\n",
       "      <td>Brasil</td>\n",
       "    </tr>\n",
       "    <tr>\n",
       "      <th>5</th>\n",
       "      <td>None</td>\n",
       "      <td>6</td>\n",
       "      <td>Fernando</td>\n",
       "      <td>naosabe</td>\n",
       "      <td>2000-10-03</td>\n",
       "      <td>M</td>\n",
       "      <td>88.5</td>\n",
       "      <td>1.90</td>\n",
       "      <td>Brasil</td>\n",
       "    </tr>\n",
       "    <tr>\n",
       "      <th>6</th>\n",
       "      <td>None</td>\n",
       "      <td>7</td>\n",
       "      <td>Gui</td>\n",
       "      <td>naosabe</td>\n",
       "      <td>1993-12-08</td>\n",
       "      <td>M</td>\n",
       "      <td>80.0</td>\n",
       "      <td>1.79</td>\n",
       "      <td>Brasil</td>\n",
       "    </tr>\n",
       "    <tr>\n",
       "      <th>7</th>\n",
       "      <td>None</td>\n",
       "      <td>8</td>\n",
       "      <td>Ana</td>\n",
       "      <td>naosabe</td>\n",
       "      <td>1965-10-03</td>\n",
       "      <td>F</td>\n",
       "      <td>70.5</td>\n",
       "      <td>1.74</td>\n",
       "      <td>Brasil</td>\n",
       "    </tr>\n",
       "  </tbody>\n",
       "</table>\n",
       "</div>"
      ],
      "text/plain": [
       "  codigo  id       nome     prof  nascimento sexo  peso  altura nacionalidade\n",
       "0   None   1  Godofredo  naosabe  1984-01-02    M  78.5    1.83        Brasil\n",
       "1   None   2   Priscila  naosabe  1995-01-02    M  51.5    1.63        Brasil\n",
       "2   None   3   Priscila  naosabe  1995-01-02    M  51.5    1.63        Brasil\n",
       "3   None   4     Miguel  naosabe  1990-10-03    M  76.5    1.79        Brasil\n",
       "4   None   5     Junior  naosabe  1998-10-03    M  75.5    1.70        Brasil\n",
       "5   None   6   Fernando  naosabe  2000-10-03    M  88.5    1.90        Brasil\n",
       "6   None   7        Gui  naosabe  1993-12-08    M  80.0    1.79        Brasil\n",
       "7   None   8        Ana  naosabe  1965-10-03    F  70.5    1.74        Brasil"
      ]
     },
     "execution_count": 19,
     "metadata": {},
     "output_type": "execute_result"
    }
   ],
   "source": [
    "df"
   ]
  }
 ],
 "metadata": {
  "kernelspec": {
   "display_name": "Python 3",
   "language": "python",
   "name": "python3"
  },
  "language_info": {
   "codemirror_mode": {
    "name": "ipython",
    "version": 3
   },
   "file_extension": ".py",
   "mimetype": "text/x-python",
   "name": "python",
   "nbconvert_exporter": "python",
   "pygments_lexer": "ipython3",
   "version": "3.6.8"
  }
 },
 "nbformat": 4,
 "nbformat_minor": 2
}
